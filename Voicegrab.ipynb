{
 "cells": [
  {
   "cell_type": "code",
   "execution_count": null,
   "metadata": {},
   "outputs": [
    {
     "name": "stdout",
     "output_type": "stream",
     "text": [
      "Creating audio file repeatB\n",
      "To take a screenshot: (of any size)\n",
      "\n",
      " - press the § key of your keyboard (under the Esc key)\n",
      "\n",
      " - Wait fo the phrase \"I am listening\"\n",
      "\n",
      " - then say \"Take a screenchot from here\", here being the position of the mouse's pointer and where you want the screenshot to start\n",
      "\n",
      " - wait for the acknowledgement \"The first position is saved\",\n",
      "\n",
      " - then say \"to there\", there being the position of the mouse's pointer and where you want the screenshot to stop.\n",
      "\n",
      " The screenshot is then saved into your clipboard and can be pasted anywhere you want.\n",
      "\n",
      "Press § to start\n",
      "Press Esc to stop\n",
      "\n",
      "\n",
      "\n",
      "PTT launched\n",
      "step 1\n",
      "I'm listening\n",
      "this is a banana\n",
      "Please say \"from here\" for the software to place the first point of the screenshot\n",
      "\n",
      "step 1\n",
      "I'm listening\n",
      "to there\n",
      "Please say \"from here\" for the software to place the first point of the screenshot\n",
      "\n",
      "step 1\n",
      "I'm listening\n",
      "from here\n",
      "pos_a = (442, 409)\n",
      "\n",
      "step 2\n",
      "I'm listening\n",
      "other there\n",
      "pos_b = (1191, 561)\n"
     ]
    }
   ],
   "source": [
    "from voicegrab import *\n",
    "\n",
    "main()"
   ]
  },
  {
   "cell_type": "code",
   "execution_count": null,
   "metadata": {},
   "outputs": [],
   "source": []
  },
  {
   "cell_type": "code",
   "execution_count": null,
   "metadata": {},
   "outputs": [],
   "source": []
  }
 ],
 "metadata": {
  "kernelspec": {
   "display_name": "Python 3",
   "language": "python",
   "name": "python3"
  },
  "language_info": {
   "codemirror_mode": {
    "name": "ipython",
    "version": 3
   },
   "file_extension": ".py",
   "mimetype": "text/x-python",
   "name": "python",
   "nbconvert_exporter": "python",
   "pygments_lexer": "ipython3",
   "version": "3.7.6"
  }
 },
 "nbformat": 4,
 "nbformat_minor": 4
}
