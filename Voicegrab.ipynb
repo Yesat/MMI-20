{
 "cells": [
  {
   "cell_type": "markdown",
   "metadata": {},
   "source": [
    "https://www.simplifiedpython.net/speech-recognition-python/<br>\n",
    "\n",
    "\n",
    "https://pynput.readthedocs.io/en/latest/mouse.html<br>\n",
    "https://pynput.readthedocs.io/en/latest/keyboard.html<br>\n",
    "https://pynput.readthedocs.io/en/latest/keyboard.html#reference"
   ]
  },
  {
   "cell_type": "markdown",
   "metadata": {},
   "source": [
    "### Voice to text with big delay (to be fixed)"
   ]
  },
  {
   "cell_type": "code",
   "execution_count": null,
   "metadata": {},
   "outputs": [],
   "source": [
    "import speech_recognition as sr     # import the library\n",
    "\n",
    "r = sr.Recognizer()                 # initialize recognizer\n",
    "with sr.Microphone() as source:     # mention source it will be either Microphone or audio files.\n",
    "    print(\"Speak Anything :\")\n",
    "    audio = r.listen(source)        # listen to the source\n",
    "    try:\n",
    "        text = r.recognize_google(audio)    # use recognizer to convert our audio into text part.\n",
    "        print(\"You said : {}\".format(text))\n",
    "    except:\n",
    "        print(\"Sorry could not recognize your voice\")    # In case of voice not recognized  clearly"
   ]
  },
  {
   "cell_type": "markdown",
   "metadata": {},
   "source": [
    "### Mouse position"
   ]
  },
  {
   "cell_type": "code",
   "execution_count": null,
   "metadata": {},
   "outputs": [],
   "source": [
    "from pynput.mouse import Button, Controller\n",
    "import time\n",
    " \n",
    "mouse = Controller()\n",
    "\n",
    "i = 0\n",
    "\n",
    "while 1:\n",
    "    if i < 10:\n",
    "\n",
    "        # Read pointer position\n",
    "        print('The current pointer position is {0}'.format(mouse.position))\n",
    "\n",
    "        # Wait for 3 seconds\n",
    "        time.sleep(3)\n",
    "\n",
    "        i += 1\n",
    "    else:\n",
    "        break"
   ]
  },
  {
   "cell_type": "markdown",
   "metadata": {},
   "source": [
    "### Key down detection"
   ]
  },
  {
   "cell_type": "code",
   "execution_count": null,
   "metadata": {},
   "outputs": [],
   "source": [
    "from pynput import keyboard\n",
    "\n",
    "def on_press(key):\n",
    "    \n",
    "    if key == keyboard.Key.space:\n",
    "        print('{0} pressed'.format(key))\n",
    "    elif key == keyboard.Key.esc:\n",
    "        print('{0} pressed'.format(key))\n",
    "        return False\n",
    "        \n",
    "def on_release(key):\n",
    "    \n",
    "    if key == keyboard.Key.space:\n",
    "        print('{0} released'.format(key))\n",
    "#         # Stop listener\n",
    "        return False\n",
    "\n",
    "# Collect events until released\n",
    "with keyboard.Listener(on_press = on_press, on_release = on_release) as listener:\n",
    "    listener.join()\n"
   ]
  },
  {
   "cell_type": "code",
   "execution_count": null,
   "metadata": {},
   "outputs": [],
   "source": []
  },
  {
   "cell_type": "code",
   "execution_count": null,
   "metadata": {},
   "outputs": [],
   "source": [
    "class MyException(Exception): pass\n",
    "\n",
    "def on_press(key):\n",
    "    try:\n",
    "        if key == keyboard.Key.space:\n",
    "            raise MyException(key)\n",
    "    except AttributeError:\n",
    "        print('special key {0} pressed'.format(key))\n",
    "\n",
    "# Collect events until released\n",
    "with keyboard.Listener(on_press = on_press) as listener:\n",
    "    try:\n",
    "        listener.join()\n",
    "    except MyException as e:\n",
    "        print('{0} was pressed'.format(e.args[0]))"
   ]
  },
  {
   "cell_type": "code",
   "execution_count": null,
   "metadata": {},
   "outputs": [],
   "source": []
  },
  {
   "cell_type": "code",
   "execution_count": null,
   "metadata": {},
   "outputs": [],
   "source": [
    "from pynput import keyboard\n",
    "\n",
    "# The event listener will be running in this block\n",
    "with keyboard.Events() as events:\n",
    "    for event in events:\n",
    "        if event.key == keyboard.Key.esc:\n",
    "            break\n",
    "        elif event.key == keyboard.Key.left:\n",
    "            print(f'{event.key} is pressed')"
   ]
  },
  {
   "cell_type": "code",
   "execution_count": null,
   "metadata": {},
   "outputs": [],
   "source": []
  }
 ],
 "metadata": {
  "kernelspec": {
   "display_name": "Python 3",
   "language": "python",
   "name": "python3"
  },
  "language_info": {
   "codemirror_mode": {
    "name": "ipython",
    "version": 3
   },
   "file_extension": ".py",
   "mimetype": "text/x-python",
   "name": "python",
   "nbconvert_exporter": "python",
   "pygments_lexer": "ipython3",
   "version": "3.7.6"
  }
 },
 "nbformat": 4,
 "nbformat_minor": 4
}
