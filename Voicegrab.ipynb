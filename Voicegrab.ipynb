{
 "cells": [
  {
   "cell_type": "code",
   "execution_count": null,
   "metadata": {},
   "outputs": [
    {
     "name": "stdout",
     "output_type": "stream",
     "text": [
      "Creating audio file notUnderstood\n",
      "Press § to start\n",
      "Press Esc to stop\n",
      "\n",
      "PTT launched\n",
      "To take a screenshot: \n",
      " - say \"Take a screenshot from here\", \n",
      " - wait for the acknowledgement,\n",
      " - then say \"to there\" \n",
      " The screenshot is then saved into your clipboard and can be pasted anywhere you want.\n",
      "\n",
      "step 1\n",
      "I'm listening\n",
      "Sorry could not understand your command\n",
      "Please say \"from here\" for the software to place the first point of the screenshot\n",
      "\n",
      "step 1\n",
      "I'm listening\n",
      "from here\n",
      "pos_a = (475, 301)\n",
      "\n",
      "step 2\n",
      "I'm listening\n",
      "you there\n",
      "pos_b = (1030, 675)\n",
      "\n",
      "screenshot saved to the clipboard\n",
      "\n"
     ]
    }
   ],
   "source": [
    "from voicegrab import *\n",
    "\n",
    "main()"
   ]
  },
  {
   "cell_type": "code",
   "execution_count": null,
   "metadata": {},
   "outputs": [],
   "source": []
  }
 ],
 "metadata": {
  "kernelspec": {
   "display_name": "Python 3",
   "language": "python",
   "name": "python3"
  },
  "language_info": {
   "codemirror_mode": {
    "name": "ipython",
    "version": 3
   },
   "file_extension": ".py",
   "mimetype": "text/x-python",
   "name": "python",
   "nbconvert_exporter": "python",
   "pygments_lexer": "ipython3",
   "version": "3.7.6"
  }
 },
 "nbformat": 4,
 "nbformat_minor": 4
}
